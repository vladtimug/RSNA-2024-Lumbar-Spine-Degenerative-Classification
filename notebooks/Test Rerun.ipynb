{
 "cells": [
  {
   "cell_type": "code",
   "execution_count": 1,
   "metadata": {},
   "outputs": [],
   "source": [
    "import rerun as rr\n",
    "from numpy.random import default_rng\n",
    "\n",
    "# %env RERUN_NOTEBOOK_ASSET=inline"
   ]
  },
  {
   "cell_type": "code",
   "execution_count": 2,
   "metadata": {},
   "outputs": [
    {
     "data": {
      "application/vnd.jupyter.widget-view+json": {
       "model_id": "05d6f596c6ba43689f72fa997fd6838d",
       "version_major": 2,
       "version_minor": 0
      },
      "text/plain": [
       "Viewer()"
      ]
     },
     "metadata": {},
     "output_type": "display_data"
    },
    {
     "name": "stderr",
     "output_type": "stream",
     "text": [
      "WARNING:root:Timed out waiting for viewer to become ready. Make sure: https://app.rerun.io/version/0.17.0/widget.js is accessible.\n",
      "If not, consider setting `RERUN_NOTEBOOK_ASSET`. Consult https://pypi.org/project/rerun-notebook/0.17.0/ for details.\n",
      "\n"
     ]
    }
   ],
   "source": [
    "\n",
    "rr.init(\"rerun_example_notebook\")\n",
    "\n",
    "rng = default_rng(12345)\n",
    "\n",
    "positions = rng.uniform(-5, 5, size=[10, 3])\n",
    "colors = rng.uniform(0, 255, size=[10, 3])\n",
    "radii = rng.uniform(0, 1, size=[10])\n",
    "\n",
    "rr.log(\"random\", rr.Points3D(positions, colors=colors, radii=radii))\n",
    "\n",
    "rr.notebook_show()"
   ]
  }
 ],
 "metadata": {
  "kernelspec": {
   "display_name": "ML",
   "language": "python",
   "name": "python3"
  },
  "language_info": {
   "codemirror_mode": {
    "name": "ipython",
    "version": 3
   },
   "file_extension": ".py",
   "mimetype": "text/x-python",
   "name": "python",
   "nbconvert_exporter": "python",
   "pygments_lexer": "ipython3",
   "version": "3.12.3"
  }
 },
 "nbformat": 4,
 "nbformat_minor": 2
}
