{
 "cells": [
  {
   "cell_type": "code",
   "execution_count": 1,
   "metadata": {},
   "outputs": [
    {
     "name": "stdout",
     "output_type": "stream",
     "text": [
      "inline\n"
     ]
    }
   ],
   "source": [
    "import os\n",
    "import dotenv\n",
    "\n",
    "project_dir = os.path.join(os.path.dirname(__vsc_ipynb_file__), os.pardir)\n",
    "dotenv_path = os.path.join(project_dir, '.env')\n",
    "dotenv.load_dotenv(dotenv_path)\n",
    "\n",
    "# For rerun to work in a notebook the environment variable RERUN_NOTEBOOK_ASSET must be set to \"inline\" before importing the rerun package\n",
    "print(os.getenv(\"RERUN_NOTEBOOK_ASSET\"))"
   ]
  },
  {
   "cell_type": "code",
   "execution_count": 2,
   "metadata": {},
   "outputs": [],
   "source": [
    "import numpy as np\n",
    "import rerun as rr\n",
    "from numpy.random import default_rng"
   ]
  },
  {
   "cell_type": "markdown",
   "metadata": {},
   "source": [
    "# Example of visualizing a 3D point set"
   ]
  },
  {
   "cell_type": "code",
   "execution_count": 10,
   "metadata": {},
   "outputs": [
    {
     "data": {
      "application/vnd.jupyter.widget-view+json": {
       "model_id": "5d825f62cabb4fb1b55bacfece8d5e70",
       "version_major": 2,
       "version_minor": 1
      },
      "text/plain": [
       "Viewer()"
      ]
     },
     "metadata": {},
     "output_type": "display_data"
    }
   ],
   "source": [
    "rr.init(\"rerun_example_notebook\")\n",
    "\n",
    "rng = default_rng(12345)\n",
    "\n",
    "positions = rng.uniform(-5, 5, size=[10, 3])\n",
    "colors = rng.uniform(0, 255, size=[10, 3])\n",
    "radii = rng.uniform(0, 1, size=[10])\n",
    "\n",
    "rr.log(\"random\", rr.Points3D(positions, colors=colors, radii=radii))\n",
    "\n",
    "rr.notebook_show()"
   ]
  },
  {
   "cell_type": "markdown",
   "metadata": {},
   "source": [
    "# Example of visualizing a 3D Tensor"
   ]
  },
  {
   "cell_type": "code",
   "execution_count": 11,
   "metadata": {},
   "outputs": [
    {
     "data": {
      "application/vnd.jupyter.widget-view+json": {
       "model_id": "2c2edeb8e70346f4b6bf6c5445e48ef1",
       "version_major": 2,
       "version_minor": 1
      },
      "text/plain": [
       "Viewer()"
      ]
     },
     "metadata": {},
     "output_type": "display_data"
    }
   ],
   "source": [
    "rr.init(\"visualize_data_notebook\")\n",
    "\n",
    "rng = default_rng(12345)\n",
    "\n",
    "rr.log(\n",
    "    entity_path = \"scan\",\n",
    "    entity = rr.Tensor(\n",
    "        data = rng.uniform(-1, 1, size=[15, 10, 20]),\n",
    "        dim_names = [\"height\", \"width\", \"depth\"])\n",
    ")\n",
    "\n",
    "rr.notebook_show()"
   ]
  },
  {
   "cell_type": "markdown",
   "metadata": {},
   "source": [
    "# Example of visualizing a MRI scan from a DICOM file"
   ]
  },
  {
   "cell_type": "code",
   "execution_count": 4,
   "metadata": {},
   "outputs": [],
   "source": [
    "from pydicom import read_file, FileDataset\n",
    "from glob import glob\n",
    "\n",
    "ROOT_SCAN_PATH = \"/media/vlad/sda2/Projects/Me/Kaggle/RSNA-2024-Lumbar-Spine-Degenerative-Classification/data/raw/train_images/4003253\""
   ]
  },
  {
   "cell_type": "code",
   "execution_count": 5,
   "metadata": {},
   "outputs": [
    {
     "name": "stdout",
     "output_type": "stream",
     "text": [
      "Reading from /media/vlad/sda2/Projects/Me/Kaggle/RSNA-2024-Lumbar-Spine-Degenerative-Classification/data/raw/train_images/4003253/1054713880: 1.dcm, 2.dcm, 3.dcm, 4.dcm, 5.dcm, 6.dcm, 7.dcm, 8.dcm, 9.dcm, 10.dcm, 11.dcm, 12.dcm, 13.dcm, 14.dcm, 15.dcm, \n",
      "Reading from /media/vlad/sda2/Projects/Me/Kaggle/RSNA-2024-Lumbar-Spine-Degenerative-Classification/data/raw/train_images/4003253/2448190387: 1.dcm, 2.dcm, 3.dcm, 4.dcm, 5.dcm, 6.dcm, 7.dcm, 8.dcm, 9.dcm, 10.dcm, 11.dcm, 12.dcm, 13.dcm, 14.dcm, 15.dcm, 16.dcm, 17.dcm, 18.dcm, 19.dcm, 20.dcm, 21.dcm, 22.dcm, 23.dcm, 24.dcm, 25.dcm, 26.dcm, 27.dcm, 28.dcm, 29.dcm, 30.dcm, 31.dcm, 32.dcm, 33.dcm, 34.dcm, 35.dcm, 36.dcm, 37.dcm, 38.dcm, 39.dcm, 40.dcm, 41.dcm, 42.dcm, 43.dcm, \n",
      "Reading from /media/vlad/sda2/Projects/Me/Kaggle/RSNA-2024-Lumbar-Spine-Degenerative-Classification/data/raw/train_images/4003253/702807833: 1.dcm, 2.dcm, 3.dcm, 4.dcm, 5.dcm, 6.dcm, 7.dcm, 8.dcm, 9.dcm, 10.dcm, 11.dcm, 12.dcm, 13.dcm, 14.dcm, 15.dcm, \n",
      "Read 73 slices from /media/vlad/sda2/Projects/Me/Kaggle/RSNA-2024-Lumbar-Spine-Degenerative-Classification/data/raw/train_images/4003253\n"
     ]
    }
   ],
   "source": [
    "# Read from dicom file\n",
    "\n",
    "scan_views: dict[str, np.ndarray | dict[str, FileDataset]] = {}\n",
    "for view_id in os.listdir(ROOT_SCAN_PATH):\n",
    "    view_slices: dict[str, FileDataset] = {}\n",
    "    view_tensor: list[np.ndarray] = []\n",
    "    print(f\"Reading from {ROOT_SCAN_PATH}/{view_id}:\", end=\" \")\n",
    "    for slice_path in sorted(glob(os.path.join(ROOT_SCAN_PATH, view_id, \"*.dcm\")), key=lambda x: int(x.split(\"/\")[-1].split(\".\")[0])):\n",
    "        slice_id = slice_path.split(\"/\")[-1]\n",
    "        slice = read_file(slice_path)\n",
    "        print(f\"{slice_id}\", end=\", \")\n",
    "        view_slices[slice_id] = slice\n",
    "        view_tensor.append(slice.pixel_array)\n",
    "    print()\n",
    "    scan_views[view_id+\"_dicom\"] = view_slices\n",
    "    scan_views[view_id+\"_tensor\"] = np.array(view_tensor).transpose(-1, 1, 0)\n",
    "print(f\"Read {sum([len(scan_views[view_id+\"_dicom\"].keys()) for view_id in os.listdir(ROOT_SCAN_PATH)])} slices from {ROOT_SCAN_PATH}\")"
   ]
  },
  {
   "cell_type": "code",
   "execution_count": 9,
   "metadata": {},
   "outputs": [
    {
     "data": {
      "application/vnd.jupyter.widget-view+json": {
       "model_id": "907e9d86101a437b9979f891146044b7",
       "version_major": 2,
       "version_minor": 1
      },
      "text/plain": [
       "Viewer()"
      ]
     },
     "metadata": {},
     "output_type": "display_data"
    }
   ],
   "source": [
    "rr.init(\"visualize_mri_volume_notebook\")\n",
    "\n",
    "for view_id in os.listdir(ROOT_SCAN_PATH):\n",
    "    rr.log(\n",
    "        entity_path=f\"view_{view_id}\",\n",
    "        entity=rr.Tensor(\n",
    "            data=np.rot90(scan_views[f\"{view_id}_tensor\"], k=3),\n",
    "            dim_names=[\"height\", \"width\", \"depth\"]\n",
    "            )\n",
    "    )\n",
    "\n",
    "for view_id in os.listdir(ROOT_SCAN_PATH):\n",
    "    rr.blueprint.Horizontal(\n",
    "        rr.blueprint.Spatial2DView(origin=f\"/{view_id}\")\n",
    "    )\n",
    "\n",
    "\n",
    "rr.notebook_show()"
   ]
  }
 ],
 "metadata": {
  "kernelspec": {
   "display_name": "ML",
   "language": "python",
   "name": "python3"
  },
  "language_info": {
   "codemirror_mode": {
    "name": "ipython",
    "version": 3
   },
   "file_extension": ".py",
   "mimetype": "text/x-python",
   "name": "python",
   "nbconvert_exporter": "python",
   "pygments_lexer": "ipython3",
   "version": "3.12.3"
  }
 },
 "nbformat": 4,
 "nbformat_minor": 2
}
