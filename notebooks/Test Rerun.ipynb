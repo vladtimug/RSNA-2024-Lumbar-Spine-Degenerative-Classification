{
 "cells": [
  {
   "cell_type": "code",
   "execution_count": 7,
   "metadata": {},
   "outputs": [
    {
     "name": "stdout",
     "output_type": "stream",
     "text": [
      "inline\n"
     ]
    }
   ],
   "source": [
    "import os\n",
    "import dotenv\n",
    "\n",
    "project_dir = os.path.join(os.path.dirname(__vsc_ipynb_file__), os.pardir)\n",
    "dotenv_path = os.path.join(project_dir, '.env')\n",
    "dotenv.load_dotenv(dotenv_path)\n",
    "\n",
    "# For rerun to work in a notebook the environment variable RERUN_NOTEBOOK_ASSET must be set to \"inline\" before importing the rerun package\n",
    "print(os.getenv(\"RERUN_NOTEBOOK_ASSET\"))"
   ]
  },
  {
   "cell_type": "code",
   "execution_count": 5,
   "metadata": {},
   "outputs": [],
   "source": [
    "import rerun as rr\n",
    "from numpy.random import default_rng"
   ]
  },
  {
   "cell_type": "code",
   "execution_count": 8,
   "metadata": {},
   "outputs": [
    {
     "data": {
      "application/vnd.jupyter.widget-view+json": {
       "model_id": "0e25073d78b94146ae3824584e244c96",
       "version_major": 2,
       "version_minor": 1
      },
      "text/plain": [
       "Viewer()"
      ]
     },
     "metadata": {},
     "output_type": "display_data"
    }
   ],
   "source": [
    "rr.init(\"rerun_example_notebook\")\n",
    "\n",
    "rng = default_rng(12345)\n",
    "\n",
    "positions = rng.uniform(-5, 5, size=[10, 3])\n",
    "colors = rng.uniform(0, 255, size=[10, 3])\n",
    "radii = rng.uniform(0, 1, size=[10])\n",
    "\n",
    "rr.log(\"random\", rr.Points3D(positions, colors=colors, radii=radii))\n",
    "\n",
    "rr.notebook_show()"
   ]
  }
 ],
 "metadata": {
  "kernelspec": {
   "display_name": "ML",
   "language": "python",
   "name": "python3"
  },
  "language_info": {
   "codemirror_mode": {
    "name": "ipython",
    "version": 3
   },
   "file_extension": ".py",
   "mimetype": "text/x-python",
   "name": "python",
   "nbconvert_exporter": "python",
   "pygments_lexer": "ipython3",
   "version": "3.12.3"
  }
 },
 "nbformat": 4,
 "nbformat_minor": 2
}
